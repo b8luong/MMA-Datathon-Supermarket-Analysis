{
 "cells": [
  {
   "cell_type": "markdown",
   "id": "f1d8d6b4",
   "metadata": {},
   "source": [
    "# MM&A Supermarket Case"
   ]
  },
  {
   "cell_type": "markdown",
   "id": "1be52b33",
   "metadata": {},
   "source": [
    "## 1. Exploring the Data (EDA)"
   ]
  },
  {
   "cell_type": "code",
   "execution_count": 2,
   "id": "8e3559d3",
   "metadata": {},
   "outputs": [],
   "source": [
    "# importing necessary libraries\n",
    "import numpy as np\n",
    "import pandas as pd"
   ]
  },
  {
   "cell_type": "code",
   "execution_count": 3,
   "id": "c3d94a9b",
   "metadata": {},
   "outputs": [],
   "source": [
    "# reading in the csv file into a dataframe\n",
    "file = 'mma_mart.csv'\n",
    "df = pd.read_csv(file)"
   ]
  },
  {
   "cell_type": "code",
   "execution_count": 4,
   "id": "616ab0b7",
   "metadata": {},
   "outputs": [
    {
     "data": {
      "text/html": [
       "<div>\n",
       "<style scoped>\n",
       "    .dataframe tbody tr th:only-of-type {\n",
       "        vertical-align: middle;\n",
       "    }\n",
       "\n",
       "    .dataframe tbody tr th {\n",
       "        vertical-align: top;\n",
       "    }\n",
       "\n",
       "    .dataframe thead th {\n",
       "        text-align: right;\n",
       "    }\n",
       "</style>\n",
       "<table border=\"1\" class=\"dataframe\">\n",
       "  <thead>\n",
       "    <tr style=\"text-align: right;\">\n",
       "      <th></th>\n",
       "      <th>order_id</th>\n",
       "      <th>product_id</th>\n",
       "      <th>product_name</th>\n",
       "      <th>aisle_id</th>\n",
       "      <th>aisle</th>\n",
       "      <th>department_id</th>\n",
       "      <th>department</th>\n",
       "    </tr>\n",
       "  </thead>\n",
       "  <tbody>\n",
       "    <tr>\n",
       "      <th>0</th>\n",
       "      <td>1</td>\n",
       "      <td>49302</td>\n",
       "      <td>Bulgarian Yogurt</td>\n",
       "      <td>120</td>\n",
       "      <td>yogurt</td>\n",
       "      <td>16</td>\n",
       "      <td>dairy eggs</td>\n",
       "    </tr>\n",
       "    <tr>\n",
       "      <th>1</th>\n",
       "      <td>1</td>\n",
       "      <td>11109</td>\n",
       "      <td>Organic 4% Milk Fat Whole Milk Cottage Cheese</td>\n",
       "      <td>108</td>\n",
       "      <td>other creams cheeses</td>\n",
       "      <td>16</td>\n",
       "      <td>dairy eggs</td>\n",
       "    </tr>\n",
       "    <tr>\n",
       "      <th>2</th>\n",
       "      <td>1</td>\n",
       "      <td>10246</td>\n",
       "      <td>Organic Celery Hearts</td>\n",
       "      <td>83</td>\n",
       "      <td>fresh vegetables</td>\n",
       "      <td>4</td>\n",
       "      <td>produce</td>\n",
       "    </tr>\n",
       "    <tr>\n",
       "      <th>3</th>\n",
       "      <td>1</td>\n",
       "      <td>49683</td>\n",
       "      <td>Cucumber Kirby</td>\n",
       "      <td>83</td>\n",
       "      <td>fresh vegetables</td>\n",
       "      <td>4</td>\n",
       "      <td>produce</td>\n",
       "    </tr>\n",
       "    <tr>\n",
       "      <th>4</th>\n",
       "      <td>1</td>\n",
       "      <td>43633</td>\n",
       "      <td>Lightly Smoked Sardines in Olive Oil</td>\n",
       "      <td>95</td>\n",
       "      <td>canned meat seafood</td>\n",
       "      <td>15</td>\n",
       "      <td>canned goods</td>\n",
       "    </tr>\n",
       "  </tbody>\n",
       "</table>\n",
       "</div>"
      ],
      "text/plain": [
       "   order_id  product_id                                   product_name  \\\n",
       "0         1       49302                               Bulgarian Yogurt   \n",
       "1         1       11109  Organic 4% Milk Fat Whole Milk Cottage Cheese   \n",
       "2         1       10246                          Organic Celery Hearts   \n",
       "3         1       49683                                 Cucumber Kirby   \n",
       "4         1       43633           Lightly Smoked Sardines in Olive Oil   \n",
       "\n",
       "   aisle_id                 aisle  department_id    department  \n",
       "0       120                yogurt             16    dairy eggs  \n",
       "1       108  other creams cheeses             16    dairy eggs  \n",
       "2        83      fresh vegetables              4       produce  \n",
       "3        83      fresh vegetables              4       produce  \n",
       "4        95   canned meat seafood             15  canned goods  "
      ]
     },
     "execution_count": 4,
     "metadata": {},
     "output_type": "execute_result"
    }
   ],
   "source": [
    "# observing the data structure\n",
    "df.head()"
   ]
  },
  {
   "cell_type": "code",
   "execution_count": 6,
   "id": "1b0dd382",
   "metadata": {},
   "outputs": [
    {
     "data": {
      "text/plain": [
       "(987259, 7)"
      ]
     },
     "execution_count": 6,
     "metadata": {},
     "output_type": "execute_result"
    }
   ],
   "source": [
    "# finding the shape of the data set (row and column)\n",
    "df.shape"
   ]
  },
  {
   "cell_type": "markdown",
   "id": "46830458",
   "metadata": {},
   "source": [
    "The data shows 987259 rows and 7 columns."
   ]
  },
  {
   "cell_type": "code",
   "execution_count": 7,
   "id": "f5adb6e8",
   "metadata": {},
   "outputs": [
    {
     "data": {
      "text/plain": [
       "order_id         97833\n",
       "product_id       35070\n",
       "product_name     35070\n",
       "aisle_id           134\n",
       "aisle              134\n",
       "department_id       21\n",
       "department          21\n",
       "dtype: int64"
      ]
     },
     "execution_count": 7,
     "metadata": {},
     "output_type": "execute_result"
    }
   ],
   "source": [
    "# finding amount of unique entries in each column\n",
    "df.nunique()"
   ]
  },
  {
   "cell_type": "markdown",
   "id": "b0f5d740",
   "metadata": {},
   "source": [
    "There are ~98000 orders and ~35000 unique products which is across 134 aisles that belong to 21 departments. This shows that selecting 1000-1200 products for the instabasket aisle is selecting only 1000/35000 = ~3% of the total product selection offered at MM&A supermarket."
   ]
  },
  {
   "cell_type": "code",
   "execution_count": null,
   "id": "e9f3e407",
   "metadata": {},
   "outputs": [],
   "source": []
  },
  {
   "cell_type": "code",
   "execution_count": null,
   "id": "0d531326",
   "metadata": {},
   "outputs": [],
   "source": []
  }
 ],
 "metadata": {
  "kernelspec": {
   "display_name": "Python 3 (ipykernel)",
   "language": "python",
   "name": "python3"
  },
  "language_info": {
   "codemirror_mode": {
    "name": "ipython",
    "version": 3
   },
   "file_extension": ".py",
   "mimetype": "text/x-python",
   "name": "python",
   "nbconvert_exporter": "python",
   "pygments_lexer": "ipython3",
   "version": "3.10.9"
  }
 },
 "nbformat": 4,
 "nbformat_minor": 5
}
